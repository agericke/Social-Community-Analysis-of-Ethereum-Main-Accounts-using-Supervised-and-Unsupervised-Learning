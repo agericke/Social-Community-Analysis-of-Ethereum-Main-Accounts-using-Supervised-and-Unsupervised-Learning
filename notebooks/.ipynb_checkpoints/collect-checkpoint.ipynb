{
 "cells": [
  {
   "cell_type": "code",
   "execution_count": 1,
   "metadata": {},
   "outputs": [],
   "source": [
    "from collections import Counter\n",
    "import matplotlib.pyplot as plt\n",
    "import networkx as nx\n",
    "import sys\n",
    "import time\n",
    "import json\n",
    "import configparser\n",
    "import requests\n",
    "import pickle\n",
    "from TwitterAPI import TwitterAPI"
   ]
  },
  {
   "cell_type": "code",
   "execution_count": 2,
   "metadata": {},
   "outputs": [
    {
     "name": "stdout",
     "output_type": "stream",
     "text": [
      "found 4014 female and 1146 male names\n",
      "male name sample: ['emory', 'preston', 'napoleon', 'loren', 'dexter']\n",
      "female name sample: ['shea', 'clorinda', 'kirstin', 'junie', 'jacelyn']\n"
     ]
    }
   ],
   "source": [
    "# Fetch male/female names from Census.\n",
    "def get_census_names():\n",
    "    \"\"\" Fetch a list of common male/female names from the census.\n",
    "    For ambiguous names, we select the more frequent gender.\"\"\"\n",
    "    males = requests.get('http://www2.census.gov/topics/genealogy/1990surnames/dist.male.first').text.split('\\n')\n",
    "    females = requests.get('http://www2.census.gov/topics/genealogy/1990surnames/dist.female.first').text.split('\\n')\n",
    "    males_pct = dict([(m.split()[0].lower(), float(m.split()[1])) for m in males if m])\n",
    "    females_pct = dict([(f.split()[0].lower(), float(f.split()[1])) for f in females if f])\n",
    "    male_names = set([m for m in males_pct if m not in females_pct or males_pct[m] > females_pct[m]])\n",
    "    female_names = set([f for f in females_pct if f not in males_pct or females_pct[f] > males_pct[f]])\n",
    "    #pickle.dump(male_names, open('../data/collect/male_names.pkl','wb'))\n",
    "    #pickle.dump(female_names, open('../data/collect/female_names.pkl','wb'))\n",
    "    return male_names, female_names\n",
    "\n",
    "male_names, female_names = get_census_names()\n",
    "print('found %d female and %d male names' % (len(female_names), len(male_names)))\n",
    "print('male name sample:', list(male_names)[:5])\n",
    "print('female name sample:', list(female_names)[:5])"
   ]
  },
  {
   "cell_type": "code",
   "execution_count": 3,
   "metadata": {},
   "outputs": [
    {
     "name": "stdout",
     "output_type": "stream",
     "text": [
      "Established Twitter connection.\n"
     ]
    }
   ],
   "source": [
    "def get_twitter(config_file):\n",
    "    \"\"\" Read the config_file and construct an instance of TwitterAPI.\n",
    "    Args:\n",
    "      config_file ... A config file in ConfigParser format with Twitter credentials\n",
    "    Returns:\n",
    "      An instance of TwitterAPI.\n",
    "    \"\"\"\n",
    "    config = configparser.ConfigParser()\n",
    "    config.read(config_file)\n",
    "    twitter = TwitterAPI(\n",
    "                   config.get('twitter', 'consumer_key'),\n",
    "                   config.get('twitter', 'consumer_secret'),\n",
    "                   config.get('twitter', 'access_token'),\n",
    "                   config.get('twitter', 'access_token_secret'))\n",
    "    return twitter\n",
    "\n",
    "twitter = get_twitter('../twitter.cfg')\n",
    "print('Established Twitter connection.')"
   ]
  },
  {
   "cell_type": "code",
   "execution_count": 4,
   "metadata": {},
   "outputs": [],
   "source": [
    "# Sample U.S. tweets with names from Census. \n",
    "def get_first_name(tweet):\n",
    "    \"\"\"\n",
    "    Get the first name from a twitter object.\n",
    "    \n",
    "    Params:\n",
    "        tweet....The Twitter object from where to pick the user name.\n",
    "    Returns:\n",
    "        The user first name in lower letters.\n",
    "    \"\"\"\n",
    "    if 'user' in tweet and 'name' in tweet['user']:\n",
    "        parts = tweet['user']['name'].split()\n",
    "        if len(parts) > 0:\n",
    "            return parts[0].lower()\n",
    "\n",
    "def get_realtime_tweets(twitter, limit, words, male_names, female_names, filename):\n",
    "    \"\"\"Retrieve real time tweets objects that match any of the words provided, are written in english and located \n",
    "    in the U.S.\n",
    "    \n",
    "    Store only those tweets that include a user name that matches either a male or female name from the census.\n",
    "    \n",
    "    Params:\n",
    "        twitter........The TwitterAPI object.\n",
    "        limit..........The number of tweets we want to retrieve.\n",
    "        words..........A list of strings, defining all the words that a tweet can match.\n",
    "        male_names.....List of all male names retrieved from the census.\n",
    "        female_names...List of all female names retrieved from the census.\n",
    "        filename.......Name of the file for storing the real time tweets picked.\n",
    "    Returns:\n",
    "        A list of dicts, one per tweet, containing all the tweet information\n",
    "    \"\"\"\n",
    "    tweets = []\n",
    "    while True:\n",
    "        try:\n",
    "            # Restrict to U.S.\n",
    "            for response in twitter.request('statuses/filter',\n",
    "                        {'track': words, 'locations':'-124.637,24.548,-66.993,48.9974', 'language': 'en'}):\n",
    "                # Check if Twitter object contains user description.\n",
    "                if 'user' in response:\n",
    "                    # Obtain First name from user description dict.\n",
    "                    name = get_first_name(response)\n",
    "                    #Append tweet only if name is in any of male or female names\n",
    "                    if name in male_names or name in female_names:\n",
    "                        tweets.append(response)\n",
    "                        if len(tweets) % 100 == 0:\n",
    "                            print('found %d tweets' % len(tweets))\n",
    "                        if len(tweets) >= limit:\n",
    "                            return tweets\n",
    "        except:\n",
    "            print(\"Unexpected error:\", sys.exc_info()[0])\n",
    "            print(type(sys.exc_info()[0]))\n",
    "    pickle.dump(tweets, open(filename, 'wb'))\n",
    "    return tweets"
   ]
  },
  {
   "cell_type": "code",
   "execution_count": 5,
   "metadata": {},
   "outputs": [
    {
     "name": "stdout",
     "output_type": "stream",
     "text": [
      "found 100 tweets\n",
      "found 200 tweets\n",
      "found 300 tweets\n",
      "found 400 tweets\n",
      "found 500 tweets\n"
     ]
    }
   ],
   "source": [
    "# Create list of blockchain related words\n",
    "words = ['ethereum', 'eth', 'bitcoin', 'btc', 'blockchain', 'cryptocurrencies', 'cryptocurrency', 'crypto', 'token', 'tokens',\n",
    "        'solidity', 'litecoin', 'hyperledger','eos','dapp', 'dapps', 'smart contract', 'smart contracts', 'neo', 'miner', 'mining',\n",
    "        'sidechain','pos','pow', 'dlt', 'polkadot']\n",
    "filename = '../data/collect/real-time-tweets-test-dataset.pkl'\n",
    "tweets = get_realtime_tweets(twitter, 500, words, male_names, female_names, filename)"
   ]
  },
  {
   "cell_type": "code",
   "execution_count": 5,
   "metadata": {},
   "outputs": [
    {
     "name": "stdout",
     "output_type": "stream",
     "text": [
      "Read screen names: ['ConsenSysAcad', 'VitalikButerin', 'binance', 'coinbase', 'ethereum', 'gavofyork', 'trufflesuite']\n"
     ]
    }
   ],
   "source": [
    "# 1 - Read the screen names we want to build the network from.\n",
    "def read_screen_names(filename):\n",
    "    \"\"\"\n",
    "    Read a text file containing Twitter screen_names, one per line.\n",
    "\n",
    "    Params:\n",
    "        filename....Name of the file to read.\n",
    "    Returns:\n",
    "        A list of strings, one per screen_name, in the order they are listed\n",
    "        in the file.\n",
    "\n",
    "    Here's a doctest to confirm your implementation is correct.\n",
    "    >>> read_screen_names('candidates.txt')\n",
    "    ['DrJillStein', 'GovGaryJohnson', 'HillaryClinton', 'realDonaldTrump']\n",
    "    \"\"\"\n",
    "    file = open(filename)\n",
    "    r = sorted([l.strip() for l in file])\n",
    "    file.close()\n",
    "    return r\n",
    "\n",
    "screen_names = read_screen_names('../data/collect/ethereum-accounts.txt')\n",
    "print('Read screen names: %s' % screen_names)"
   ]
  },
  {
   "cell_type": "code",
   "execution_count": 6,
   "metadata": {},
   "outputs": [],
   "source": [
    "def robust_request(twitter, resource, params, max_tries=5):\n",
    "    \"\"\" If a Twitter request fails, sleep for 15 minutes.\n",
    "    Do this at most max_tries times before quitting.\n",
    "    Args:\n",
    "      twitter .... A TwitterAPI object.\n",
    "      resource ... A resource string to request\n",
    "      params ..... A parameter dict for the request, e.g., to specify\n",
    "                   parameters like screen_name or count.\n",
    "      max_tries .. The maximum number of tries to attempt.\n",
    "    Returns:\n",
    "      A TwitterResponse object, or None if failed.\n",
    "    \"\"\"\n",
    "    for i in range(max_tries):\n",
    "        request = twitter.request(resource, params)\n",
    "        if request.status_code == 200 or request.status_code == 404:\n",
    "            return request\n",
    "        else:\n",
    "            print('Got error %s \\n with status code %s\\nsleeping for 15 minutes.' % (request.text, request.status_code))\n",
    "            sys.stderr.flush()\n",
    "            time.sleep(61 * 15)"
   ]
  },
  {
   "cell_type": "code",
   "execution_count": 7,
   "metadata": {},
   "outputs": [],
   "source": [
    "def robust_request_iterate(twitter, resource, params, max_pages=5):\n",
    "    \"\"\" Function for managing pagination of results\n",
    "    It will sequentially obtain all the pages using the cursor provided by Twittter.\n",
    "    Args:\n",
    "      twitter .... A TwitterAPI object.\n",
    "      resource ... A resource string to request\n",
    "      params ..... A parameter dict for the request, e.g., to specify\n",
    "                   parameters like screen_name or count.\n",
    "      max_pages .. The maximum number of pages to ask for.\n",
    "    Returns:\n",
    "      A TwitterResponse object, or None if failed.\n",
    "    \"\"\"\n",
    "    ### TODO:\n",
    "    cursor = -1\n",
    "    # Add cursor parameter to params:\n",
    "    params['cursor'] = cursor\n",
    "    print(params)\n",
    "    results = []\n",
    "    while True:\n",
    "        response = robust_request(twitter, resource, params)\n",
    "        results.extend(response)\n",
    "        print(response)\n",
    "        next_cursor = response.json()['next_cursor']\n",
    "        print(next_cursor)\n",
    "        params['cursor'] = next_cursor\n",
    "        if (next_cursor == 0):\n",
    "            break\n",
    "    return results"
   ]
  },
  {
   "cell_type": "code",
   "execution_count": 8,
   "metadata": {},
   "outputs": [],
   "source": [
    "# 2 - Get the user's twitter accounts\n",
    "def get_users_by_screen_name(twitter, screen_names):\n",
    "    \"\"\"Retrieve the Twitter user objects for each screen_name.\n",
    "    Params:\n",
    "        twitter........The TwitterAPI object.\n",
    "        screen_names...A list of strings, one per screen_name\n",
    "    Returns:\n",
    "        A list of dicts, one per user, containing all the user information\n",
    "        (e.g., screen_name, id, location, etc)\n",
    "\n",
    "    >>> twitter = get_twitter()\n",
    "    >>> users = get_users(twitter, ['twitterapi', 'twitter'])\n",
    "    >>> [u['id'] for u in users]\n",
    "    [6253282, 783214]\n",
    "    \"\"\"\n",
    "    results = []\n",
    "    for s in screen_names:\n",
    "        results.extend(robust_request(twitter, \"users/lookup\", {'screen_name': s}))\n",
    "    return results"
   ]
  },
  {
   "cell_type": "code",
   "execution_count": 9,
   "metadata": {},
   "outputs": [
    {
     "name": "stdout",
     "output_type": "stream",
     "text": [
      "found 7 users with screen_names ['ConsenSysAcad', 'VitalikButerin', 'binance', 'coinbase', 'ethereum', 'gavofyork', 'trufflesuite']\n"
     ]
    }
   ],
   "source": [
    "users = sorted(get_users_by_screen_name(twitter, screen_names), key=lambda x: x['screen_name'])\n",
    "print('found %d users with screen_names %s' %\n",
    "    (len(users), str([u['screen_name'] for u in users])))\n",
    "# print(users)"
   ]
  },
  {
   "cell_type": "code",
   "execution_count": null,
   "metadata": {},
   "outputs": [],
   "source": [
    "# 3 - Get the user's each of this user follows (their \"friends\")\n",
    "def get_friends(twitter, screen_name):\n",
    "    \"\"\" Return a list of Twitter IDs for users that this person follows, up to 5000.\n",
    "    See https://dev.twitter.com/rest/reference/get/friends/ids\n",
    "\n",
    "    Args:\n",
    "        twitter.......The TwitterAPI object\n",
    "        screen_name... a string of a Twitter screen name\n",
    "    Returns:\n",
    "        A list of ints, one per friend ID, sorted in ascending order.\n",
    "\n",
    "    Note: If a user follows more than 5000 accounts, we will limit ourselves to\n",
    "    the first 5000 accounts returned.\n",
    "\n",
    "    In this test case, I return the first 5 accounts that I follow.\n",
    "    >>> twitter = get_twitter()\n",
    "    >>> get_friends(twitter, 'aronwc')[:5]\n",
    "    [695023, 1697081, 8381682, 10204352, 11669522]\n",
    "    \"\"\"\n",
    "    results = []\n",
    "    print(\"Inside: Requesting friends for screen_name %s\" % screen_name)\n",
    "    request = robust_request(twitter, \"friends/ids\", \n",
    "                              {'screen_name': screen_name, 'count':5000})\n",
    "    if (request.status_code != 404):\n",
    "        return sorted(request.json()['ids'])\n",
    "    else:\n",
    "        return str(request.status_code)\n",
    "\n",
    "#print(\"Looking for friends of @%s\" % users[2]['screen_name'])\n",
    "#binance_friends = get_friends(twitter, users[2]['screen_name'])\n",
    "#print('Complete response')\n",
    "#print(binance_friends)"
   ]
  },
  {
   "cell_type": "code",
   "execution_count": null,
   "metadata": {},
   "outputs": [],
   "source": [
    "# Obtain all friends\n",
    "def add_all_friends(twitter, users):\n",
    "    \"\"\" Get the list of accounts each user follows.\n",
    "\n",
    "    Store the result in each user's dict using a new key called 'friends'.\n",
    "\n",
    "    Args:\n",
    "        twitter...The TwitterAPI object.\n",
    "        users.....The list of user dicts.\n",
    "    Returns:\n",
    "        Nothing\n",
    "\n",
    "    >>> twitter = get_twitter()\n",
    "    >>> users = [{'screen_name': 'aronwc'}]\n",
    "    >>> add_all_friends(twitter, users)\n",
    "    >>> users[0]['friends'][:5]\n",
    "    [695023, 1697081, 8381682, 10204352, 11669522]\n",
    "    \"\"\"\n",
    "    print(\"Requesting friends for a total of %s users\" % len(users))\n",
    "    for u in users:\n",
    "        print(\"Outside: Requesting friends for screen_name %s\" % u['screen_name'])\n",
    "        # Make the requst only if the user is not protected, else store friends as an empty list\n",
    "        if u['protected'] != True:\n",
    "            response = get_friends(twitter, u['screen_name'])\n",
    "            if response == \"404\":\n",
    "                u['friends'] = []\n",
    "            else:\n",
    "                u['friends'] = response\n",
    "        else:\n",
    "            #\n",
    "            u['friends'] = []\n",
    "        \n",
    "add_all_friends(twitter, users)"
   ]
  },
  {
   "cell_type": "code",
   "execution_count": null,
   "metadata": {
    "scrolled": true
   },
   "outputs": [],
   "source": [
    "def print_num_friends(users):\n",
    "    \"\"\"Print the number of friends per candidate, sorted by candidate name.\n",
    "    See Log.txt for an \n",
    "    example.\n",
    "    Args:\n",
    "        users....The list of user dicts.\n",
    "    Returns:\n",
    "        Nothing\n",
    "    \"\"\"\n",
    "    print('\\n'.join('%s %d' % (u['screen_name'], len(u['friends'])) for u in users))\n",
    "        \n",
    "print('Friends per candidate:')\n",
    "print_num_friends(users)"
   ]
  },
  {
   "cell_type": "code",
   "execution_count": null,
   "metadata": {},
   "outputs": [],
   "source": [
    "def count_friends(users):\n",
    "    \"\"\" Count how often each friend is followed.\n",
    "    Args:\n",
    "        users: a list of user dicts\n",
    "    Returns:\n",
    "        a Counter object mapping each friend to the number of candidates who follow them.\n",
    "        Counter documentation: https://docs.python.org/dev/library/collections.html#collections.Counter\n",
    "\n",
    "    In this example, friend '2' is followed by three different users.\n",
    "    >>> c = count_friends([{'friends': [1,2]}, {'friends': [2,3]}, {'friends': [2,3]}])\n",
    "    >>> c.most_common()\n",
    "    [(2, 3), (3, 2), (1, 1)]\n",
    "    \"\"\"\n",
    "    ###TODO\n",
    "    result = Counter()\n",
    "    for u in users:\n",
    "        result.update(u['friends'])\n",
    "    return result\n",
    "\n",
    "friend_counts = count_friends(users)\n",
    "print('Most common friends:\\n%s' % str(friend_counts.most_common(5)))"
   ]
  },
  {
   "cell_type": "code",
   "execution_count": null,
   "metadata": {},
   "outputs": [],
   "source": [
    "# Who follows this person?\n",
    "# Pick the first 2.000 people that follow this person.\n",
    "# 3 - Get the user's each of this user follows (their \"friends\")\n",
    "def get_followers(twitter, screen_name):\n",
    "    \"\"\" Return a list of Twitter IDs for users that follow this person, up to 2000.\n",
    "    See https://developer.twitter.com/en/docs/accounts-and-users/follow-search-get-users/api-reference/get-followers-list\n",
    "\n",
    "    Args:\n",
    "        twitter.......The TwitterAPI object\n",
    "        screen_name... a string of a Twitter screen name\n",
    "    Returns:\n",
    "        A list of ints, one per friend ID, sorted in ascending order.\n",
    "\n",
    "    Note: If a user has more than 5000 followers, we will limit ourselves to\n",
    "    the first 5000 accounts returned.\n",
    "\n",
    "    In this test case, I return the first 5 accounts that I follow.\n",
    "    >>> twitter = get_twitter()\n",
    "    >>> get_friends(twitter, 'aronwc')[:5]\n",
    "    [695023, 1697081, 8381682, 10204352, 11669522]\n",
    "    \"\"\"\n",
    "    print(\"Inside: Requesting followers for screen_name %s\" % screen_name)\n",
    "    request = robust_request(twitter, \"followers/ids\", \n",
    "                              {'screen_name': screen_name, 'count':5000})\n",
    "    if (request.status_code != 404):\n",
    "        return sorted(request.json()['ids'])\n",
    "    else:\n",
    "        return str(request.status_code)"
   ]
  },
  {
   "cell_type": "code",
   "execution_count": null,
   "metadata": {},
   "outputs": [],
   "source": [
    "# Obtain all followers for each user\n",
    "def add_all_followers(twitter, users):\n",
    "    \"\"\" Get all the followers a user has.\n",
    "\n",
    "    Store the result in each user's dict using a new key called 'followers'.\n",
    "\n",
    "    Args:\n",
    "        twitter...The TwitterAPI object.\n",
    "        users.....The list of user dicts.\n",
    "    Returns:\n",
    "        Nothing\n",
    "\n",
    "    >>> twitter = get_twitter()\n",
    "    >>> users = [{'screen_name': 'aronwc'}]\n",
    "    >>> add_all_followers(twitter, users)\n",
    "    >>> users[0]['followers'][:5]\n",
    "    [695023, 1697081, 8381682, 10204352, 11669522]\n",
    "    \"\"\"\n",
    "    for u in users:\n",
    "        print(\"Outside: Requesting followers for screen_name %s\" % u['screen_name'])\n",
    "        if u['protected'] != True:\n",
    "            response = get_followers(twitter, u['screen_name'])\n",
    "            if response == \"404\":\n",
    "                u['followers'] = []\n",
    "            else:\n",
    "                u['followers'] = response\n",
    "        else:\n",
    "            u['followers'] = []\n",
    "        \n",
    "add_all_followers(twitter, users)"
   ]
  },
  {
   "cell_type": "code",
   "execution_count": null,
   "metadata": {},
   "outputs": [],
   "source": [
    "def print_num_followers(users):\n",
    "    \"\"\"Print the number of followers per candidate, sorted by candidate name.\n",
    "    Args:\n",
    "        users....The list of user dicts.\n",
    "    Returns:\n",
    "        Nothing\n",
    "    \"\"\"\n",
    "    print('\\n'.join('%s %d' % (u['screen_name'], len(u['followers'])) for u in users))\n",
    "        \n",
    "print('Followers per candidate:')\n",
    "print_num_followers(users)"
   ]
  },
  {
   "cell_type": "code",
   "execution_count": null,
   "metadata": {},
   "outputs": [],
   "source": [
    "def count_friends_and_followers(users):\n",
    "    \"\"\" Count how often each user is followed or follows the defined users.\n",
    "    Args:\n",
    "        users: a list of user dicts\n",
    "    Returns:\n",
    "        a Counter object mapping each friend to the number of candidates who follow them.\n",
    "        Counter documentation: https://docs.python.org/dev/library/collections.html#collections.Counter\n",
    "\n",
    "    In this example, friend '2' is followed by three different users.\n",
    "    >>> c = count_friends([{'friends': [1,2]}, {'friends': [2,3]}, {'friends': [2,3]}])\n",
    "    >>> c.most_common()\n",
    "    [(2, 3), (3, 2), (1, 1)]\n",
    "    \"\"\"\n",
    "    ###TODO\n",
    "    result = Counter()\n",
    "    for u in users:\n",
    "        result.update(u['friends'])\n",
    "        result.update(u['followers'])\n",
    "    return result\n",
    "\n",
    "friend_and_followers_counts = count_friends_and_followers(users)\n",
    "most_common_10 = friend_and_followers_counts.most_common(10)\n",
    "print('Most common friends and followers:\\n%s' % str(friend_and_followers_counts.most_common(10)))"
   ]
  },
  {
   "cell_type": "code",
   "execution_count": null,
   "metadata": {},
   "outputs": [],
   "source": [
    "# print(type(most_common_100[0]))\n",
    "# print(most_common_100[0][0])\n",
    "# Store in a list all the id's of the 100 most common users\n",
    "most_common_10_ids = [user[0] for user in most_common_10]\n",
    "print(most_common_10_ids)"
   ]
  },
  {
   "cell_type": "code",
   "execution_count": null,
   "metadata": {},
   "outputs": [],
   "source": [
    "# 4 - For each of the most common 100 users, obtain the user object and append it to the list of users' dict.\n",
    "def get_users_by_ids(twitter, ids):\n",
    "    \"\"\"Retrieve the Twitter user objects for each id.\n",
    "    Params:\n",
    "        twitter........The TwitterAPI object.\n",
    "        ids............A list of strings, one per id\n",
    "    Returns:\n",
    "        A list of dicts, one per user, containing all the user information\n",
    "        (e.g., screen_name, id, location, etc)\n",
    "\n",
    "    >>> twitter = get_twitter()\n",
    "    >>> users = get_users(twitter, ['twitterapi', 'twitter'])\n",
    "    >>> [u['id'] for u in users]\n",
    "    [6253282, 783214]\n",
    "    \"\"\"\n",
    "    results = robust_request(twitter, \"users/lookup\", {'user_id': ids})\n",
    "    return sorted(results.json(), key=lambda x: x['screen_name'])\n",
    "\n",
    "new_users = get_users_by_ids(twitter, most_common_10_ids)\n",
    "print('found %d users with screen_names %s' %\n",
    "    (len(new_users), str([u['screen_name'] for u in new_users])))"
   ]
  },
  {
   "cell_type": "code",
   "execution_count": null,
   "metadata": {},
   "outputs": [],
   "source": [
    "add_all_friends(twitter, new_users)\n",
    "add_all_followers(twitter, new_users)"
   ]
  },
  {
   "cell_type": "code",
   "execution_count": null,
   "metadata": {},
   "outputs": [],
   "source": [
    "type(new_users)\n",
    "a = users + new_users\n",
    "users_total = users + new_users"
   ]
  },
  {
   "cell_type": "code",
   "execution_count": null,
   "metadata": {},
   "outputs": [],
   "source": [
    "def store_users(users, filename):\n",
    "    pickle.dump(users, open(filename, 'wb'))\n",
    "    \n",
    "store_users(users_total, '../data/collect/users.pkl')"
   ]
  },
  {
   "cell_type": "code",
   "execution_count": null,
   "metadata": {},
   "outputs": [],
   "source": [
    "def read_users(filename):\n",
    "    return pickle.load(open(filename, 'rb'))\n",
    "\n",
    "users_read = read_users('../data/collect/users.pkl')"
   ]
  },
  {
   "cell_type": "code",
   "execution_count": null,
   "metadata": {},
   "outputs": [],
   "source": [
    "print(type(users_read))\n",
    "print(len(users_read))"
   ]
  },
  {
   "cell_type": "code",
   "execution_count": null,
   "metadata": {},
   "outputs": [],
   "source": [
    "users_read == users_total"
   ]
  }
 ],
 "metadata": {
  "kernelspec": {
   "display_name": "Python 3",
   "language": "python",
   "name": "python3"
  },
  "language_info": {
   "codemirror_mode": {
    "name": "ipython",
    "version": 3
   },
   "file_extension": ".py",
   "mimetype": "text/x-python",
   "name": "python",
   "nbconvert_exporter": "python",
   "pygments_lexer": "ipython3",
   "version": "3.7.2"
  }
 },
 "nbformat": 4,
 "nbformat_minor": 2
}
