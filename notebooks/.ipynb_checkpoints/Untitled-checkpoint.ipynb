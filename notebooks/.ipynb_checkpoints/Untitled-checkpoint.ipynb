{
 "cells": [
  {
   "cell_type": "code",
   "execution_count": 26,
   "metadata": {},
   "outputs": [],
   "source": [
    "\"\"\"\n",
    "Classify data.\n",
    "\"\"\"\n",
    "# Guessing gender\n",
    "# Collect 1500 tweets matching words related to Blockchain\n",
    "import configparser\n",
    "import sys\n",
    "import re\n",
    "import pickle\n",
    "from itertools import product\n",
    "from collections import defaultdict\n",
    "from collections import Counter\n",
    "from scipy.sparse import lil_matrix\n",
    "from sklearn.model_selection import KFold\n",
    "from sklearn.linear_model import LogisticRegression\n",
    "from sklearn.metrics import accuracy_score, confusion_matrix\n",
    "import numpy as np\n",
    "from TwitterAPI import TwitterAPI\n",
    "import matplotlib.pyplot as plt\n",
    "\n",
    "\n",
    "def read_census_names():\n",
    "\t\"\"\"\n",
    "\tRead census names collected in the collect python script.\n",
    "\n",
    "\tReturns:\n",
    "\t\tTwo lists of male_names and female_names\n",
    "\t\"\"\"\n",
    "\tmale_names = pickle.load(open('../data/collect/male_names.pkl', 'rb'))\n",
    "\tfemale_names = pickle.load(open('../data/collect/female_names.pkl', 'rb'))\n",
    "\treturn male_names, female_names\n",
    "\n",
    "\n",
    "def read_real_time_tweets(filename):\n",
    "\t\"\"\"Read real time tweets retrieved during collect phase\n",
    "\t\n",
    "\tParams:\n",
    "\t\tfilename.....The file where the tweets are stored.\n",
    "\tReturns:\n",
    "\t\tThe list of real time tweets\n",
    "\t\"\"\"\n",
    "\treturn pickle.load(open(filename, 'rb'))\n",
    "\n",
    "\n",
    "def get_first_name(tweet):\n",
    "    \"\"\"\n",
    "    Get the first name from a twitter object.\n",
    "    \n",
    "    Params:\n",
    "        tweet....The Twitter object from where to pick the user name.\n",
    "    Returns:\n",
    "        The user first name in lower letters.\n",
    "    \"\"\"\n",
    "    if 'user' in tweet and 'name' in tweet['user']:\n",
    "        parts = tweet['user']['name'].split()\n",
    "        if len(parts) > 0:\n",
    "            return parts[0].lower()\n",
    "\n",
    "\n",
    "def tokenize(string, lowercase, keep_punctuation, prefix, collapse_urls, collapse_mentions):\n",
    "    \"\"\" \n",
    "    Split a string into tokens.\n",
    "    If keep_internal_punct is False, then return only the alphanumerics (letters, numbers and underscore).\n",
    "    If keep_internal_punct is True, then also retain punctuation that\n",
    "    is inside of a word. E.g., in the example below, the token \"isn't\"\n",
    "    is maintained when keep_internal_punct=True; otherwise, it is\n",
    "    split into \"isn\" and \"t\" tokens\n",
    "    \n",
    "    Params:\n",
    "        string................The string that needs to be tokenized.\n",
    "        lowercase.............Boolean indicating if we want the text to be convert to lowercase.\n",
    "        keep_punctuation......Boolean indicating if we want to keep punctuation\n",
    "        prefix................Prefix to add to each obtained token. (will use for identifying what part is being tokenized, e.g. prefix d= for description)\n",
    "        collapse_urls.........Boolean indicating if we ant to collapse the urls in the text. (e.g. @something)\n",
    "        collapse_meentions....Boolean indicating if we ant to collapse the mmentions in the text. (e.g. #smth)\n",
    "    Returns:\n",
    "        An array containing the tokenized string.\n",
    "    \"\"\"\n",
    "    if not string:\n",
    "        return []\n",
    "    if lowercase:\n",
    "        string = string.lower()\n",
    "    tokens = []\n",
    "    if collapse_urls:\n",
    "        string = re.sub('http\\S+', 'THIS_IS_A_URL', string)\n",
    "    if collapse_mentions:\n",
    "        string = re.sub('@\\S+', 'THIS_IS_A_MENTION', string)\n",
    "    if keep_punctuation:\n",
    "        tokens = string.split()\n",
    "    else:\n",
    "        tokens = re.sub('\\W+', ' ', string).split()\n",
    "    if prefix:\n",
    "        tokens = ['%s%s' % (prefix, t) for t in tokens]\n",
    "    return tokens\n",
    "\n",
    "\n",
    "def tweet2tokens(tweet, use_descr=True, lowercase=True, keep_punctuation=True, descr_prefix='d=', collapse_urls=True, collapse_mentions=True):\n",
    "    \"\"\"\n",
    "    Convert a tweet into a list of tokens, from the tweet text and optionally the\n",
    "    user description.\n",
    "    \n",
    "    Params:\n",
    "        tweet.................The tweet that needs to be tokenized.\n",
    "        user_descr............Boolean to indicate if we want to tokenize the user description too.\n",
    "        lowercase.............Boolean indicating if we want the text to be convert to lowercase.\n",
    "        keep_punctuation......Boolean indicating if we want to keep punctuation\n",
    "        descr_prefix..........Prefix to add to the tokenization of the description.\n",
    "        collapse_urls.........Boolean indicating if we ant to collapse the urls in the text. (e.g. @something)\n",
    "        collapse_meentions....Boolean indicating if we ant to collapse the mmentions in the text. (e.g. #smth)\n",
    "    \"\"\"\n",
    "    # When tokenizing the text, do not add any prefix.\n",
    "    tokens = tokenize(tweet['text'], lowercase, keep_punctuation, None, collapse_urls, collapse_mentions)\n",
    "    if use_descr:\n",
    "        tokens.extend(tokenize(tweet['user']['description'], lowercase, keep_punctuation, descr_prefix,\n",
    "                               collapse_urls, collapse_mentions))\n",
    "    return tokens\n",
    "\n",
    "\n",
    "def generate_all_opts():\n",
    "    \"\"\"\n",
    "    Enumerate all possible classifier settings and compute.\n",
    "    \"\"\"\n",
    "    use_descr_opts = [True, False]\n",
    "    lowercase_opts = [True, False]\n",
    "    keep_punctuation_opts = [True, False]\n",
    "    descr_prefix_opts = ['d=', '']\n",
    "    url_opts = [True, False]\n",
    "    mention_opts = [True, False]\n",
    "    argnames = ['use_descr', 'lower', 'punct', 'prefix', 'url', 'mention']\n",
    "    option_iter = product(use_descr_opts, lowercase_opts, keep_punctuation_opts,\n",
    "                       descr_prefix_opts, url_opts, mention_opts)\n",
    "    \n",
    "    return argnames, option_iter\n",
    "\n",
    "\n",
    "def make_vocabulary(tokens_list):\n",
    "    vocabulary = defaultdict(lambda: len(vocabulary))\n",
    "    for tokens in tokens_list:\n",
    "        for token in tokens:\n",
    "            vocabulary[token]\n",
    "    return vocabulary\n",
    "\n",
    " \n",
    "def make_feature_matrix(tweets, tokens_list, vocabulary, test=False):\n",
    "    X = lil_matrix((len(tweets), len(vocabulary)))\n",
    "    for i, tokens in enumerate(tokens_list):\n",
    "        for token in tokens:\n",
    "            if token in vocabulary.keys():\n",
    "                j = vocabulary[token]\n",
    "                X[i,j] += 1\n",
    "    return X.tocsr()\n",
    "\n",
    "\n",
    "def get_gender(tweet, male_names, female_names):\n",
    "    # Let 1=Female, 0=Male.\n",
    "    name = get_first_name(tweet)\n",
    "    if name in female_names:\n",
    "        return 1\n",
    "    elif name in male_names:\n",
    "        return 0\n",
    "    else:\n",
    "        return -1\n",
    "\n",
    "\n",
    "def do_cross_val(X, y, nfolds=5):\n",
    "    \"\"\"\n",
    "    Compute the average testing accuracy over k folds of cross-validation.\n",
    "    Params:\n",
    "      X........A csr_matrix of features.\n",
    "      y........The true labels for each instance in X\n",
    "      nfolds...The number of cross-validation folds.\n",
    "\n",
    "    Returns:\n",
    "      The average testing accuracy of the classifier\n",
    "      over each fold of cross-validation.\n",
    "    \"\"\"\n",
    "    cv = KFold(n_splits=nfolds, random_state=42, shuffle=True)\n",
    "    accuracies = []\n",
    "    for train_idx, test_idx in cv.split(X):\n",
    "        clf = LogisticRegression()\n",
    "        clf.fit(X[train_idx], y[train_idx])\n",
    "        predicted = clf.predict(X[test_idx])\n",
    "        acc = accuracy_score(y[test_idx], predicted)\n",
    "        accuracies.append(acc)\n",
    "    avg = np.mean(accuracies)\n",
    "    return avg\n",
    "\n",
    "\n",
    "def run_all(tweets, labels, use_descr=True, lowercase=True, keep_punctuation=True, descr_prefix=None,\n",
    "            collapse_urls=True, collapse_mentions=True):\n",
    "    \n",
    "    tokens_list = [tweet2tokens(t, use_descr, lowercase, keep_punctuation, descr_prefix,\n",
    "                            collapse_urls, collapse_mentions) for t in tweets]\n",
    "    vocabulary = make_vocabulary(tokens_list)\n",
    "    X = make_feature_matrix(tweets, tokens_list, vocabulary)\n",
    "    acc = do_cross_val(X, labels, 5)\n",
    "    return acc\n",
    "\n",
    "\n",
    "def eval_all_combinations(tweets, labels, options_iter, argnames):\n",
    "    results = []\n",
    "    for options in option_iter:\n",
    "        acc = run_all(tweets, labels, *options)\n",
    "        options_parsed_dict = {name: opt for name, opt in zip(argnames, options)}\n",
    "        results.append((acc, options_parsed_dict))\n",
    "    results_sorted = sorted(results, key=lambda x: -x[0])\n",
    "    return results_sorted\n",
    "\n",
    "\n",
    "def plot_sorted_accuracies(results, filename):\n",
    "    \"\"\"\n",
    "    Plot all accuracies from the result of eval_all_combinations\n",
    "    in ascending order of accuracy.\n",
    "    Save to \"accuracies.png\".\n",
    "    \"\"\"\n",
    "    accuracies = [res_tuple[0] for res_tuple in results]\n",
    "    plt.figure()\n",
    "    plt.plot(sorted(accuracies))\n",
    "    plt.xlabel('setting')\n",
    "    plt.ylabel('accuracy')\n",
    "    plt.savefig(filename)\n",
    "\n",
    "    # for r in sorted(results, reverse=True):\n",
    "    #     print('%.4f' % r[0], '  '.join('%s=%s' % (name, opt) for name, opt in zip(argnames, r[1])))\n",
    "\n",
    "\n",
    "def mean_accuracy_per_setting(results):\n",
    "    \"\"\"\n",
    "    To determine how important each model setting is to overall accuracy,\n",
    "    we'll compute the mean accuracy of all combinations with a particular\n",
    "    setting.\n",
    "\n",
    "    Params:\n",
    "      results...The output of eval_all_combinations\n",
    "    Returns:\n",
    "      A list of (accuracy, setting) tuples, SORTED in\n",
    "      descending order of accuracy.\n",
    "    \"\"\"\n",
    "    appearances = defaultdict(lambda: 0)\n",
    "    setting_total = Counter()\n",
    "    \n",
    "    for result_tuple in results:\n",
    "        accuracy = result_tuple[0]\n",
    "        for key,value in result_tuple[1].items():\n",
    "            if key != 'accuracy':\n",
    "                appearances[\"%s=%s\" % (key,value)] += accuracy\n",
    "                setting_total.update([\"%s=%s\" % (key,value)])\n",
    "    \n",
    "    for key,value in appearances.items():\n",
    "        appearances[key] = value/setting_total[key]\n",
    "        \n",
    "    ret = [(value, key) for key,value in appearances.items()]\n",
    "    \n",
    "    return sorted(ret, key=lambda x:-x[0])\n",
    "\n",
    "\n",
    "def fit_best_classifier(tweets, labels, best_result):\n",
    "    \"\"\"\n",
    "    Using the best setting from eval_all_combinations,\n",
    "    re-vectorize all the training data and fit a\n",
    "    LogisticRegression classifier to all training data.\n",
    "    (i.e., no cross-validation done here)\n",
    "\n",
    "    Params:\n",
    "      docs..........List of training document strings.\n",
    "      labels........The true labels for each training document (0 or 1)\n",
    "      best_result...Element of eval_all_combinations\n",
    "                    with highest accuracy\n",
    "    Returns:\n",
    "      clf.....A LogisticRegression classifier fit to all\n",
    "            training data.\n",
    "      vocab...The dict from feature name to column index.\n",
    "    \"\"\"\n",
    "    tokens_list = [tweet2tokens(t, best_result[1]['use_descr'], best_result[1]['lower'], best_result[1]['punct'], \n",
    "                                best_result[1]['prefix'], best_result[1]['url'], best_result[1]['mention']) for t in tweets]\n",
    "    vocabulary = make_vocabulary(tokens_list)\n",
    "    X = make_feature_matrix(tweets, tokens_list, vocabulary)\n",
    "    model = LogisticRegression()\n",
    "    model.fit(X, labels)\n",
    "    return model, vocabulary\n",
    "    \n",
    "\n",
    "def top_coefs(clf, label, n, vocab):\n",
    "    \"\"\"\n",
    "    Find the n features with the highest coefficients in\n",
    "    this classifier for this label.\n",
    "    See the .coef_ attribute of LogisticRegression.\n",
    "\n",
    "    Params:\n",
    "      clf.....LogisticRegression classifier\n",
    "      label...1 or 0; if 1, return the top coefficients\n",
    "              for the female class; else for male.\n",
    "      n.......The number of coefficients to return.\n",
    "      vocab...Dict from feature name to column index.\n",
    "    Returns:\n",
    "      List of (feature_name, coefficient) tuples, SORTED\n",
    "      in descending order of the coefficient for the\n",
    "      given class label.\n",
    "    \"\"\"\n",
    "    coef = clf.coef_[0]\n",
    "    if label==1:\n",
    "        # Sort them in descending order.\n",
    "        top_coef_ind = np.argsort(coef)[::-1][:n]\n",
    "    else:\n",
    "        top_coef_ind = np.argsort(coef)[:n]\n",
    "    \n",
    "    # Get the names of those features.\n",
    "    idx2word = dict((v,k) for k,v in vocab.items())\n",
    "    top_coef_terms = [idx2word[i] for i in top_coef_ind]\n",
    "    # Get the weights of those features\n",
    "    top_coef = coef[top_coef_ind]\n",
    "    return [x for x in zip(top_coef_terms, top_coef)]\n",
    "\n",
    "\n",
    "def get_test_gender(tweet):\n",
    "    \"\"\"\n",
    "    Get the gender stored in a tweet\n",
    "    \"\"\"\n",
    "    return tweet['user']['gender']\n",
    "    \n",
    "    \n",
    "def parse_test_data(best_result, vocabulary):\n",
    "    \"\"\"\n",
    "    Using the vocabulary fit to the training data, read\n",
    "    and vectorize the testing data. Note that vocab should\n",
    "    be passed to the vectorize function to ensure the feature\n",
    "    mapping is consistent from training to testing.\n",
    "\n",
    "    Note: use read_data function defined above to read the\n",
    "    test data.\n",
    "\n",
    "    Params:\n",
    "      best_result...Element of eval_all_combinations\n",
    "                    with highest accuracy\n",
    "      vocabulary....dict from feature name to column index,\n",
    "                    built from the training data.\n",
    "    Returns:\n",
    "      test_tweets.....List of strings, one per testing document,\n",
    "                    containing the raw.\n",
    "      test_labels...List of ints, one per testing document,\n",
    "                    1 for positive, 0 for negative.\n",
    "      X_test........A csr_matrix representing the features\n",
    "                    in the test data. Each row is a document,\n",
    "                    each column is a feature.\n",
    "    \"\"\"\n",
    "    test_tweets = pickle.load(open('../data/collect/real-time-tweets-test-dataset.pkl', 'rb'))\n",
    "    test_labels = np.array([get_test_gender(t) for t in test_tweets])\n",
    "    tokens_list = [tweet2tokens(t, best_result[1]['use_descr'], best_result[1]['lower'], best_result[1]['punct'], \n",
    "                                best_result[1]['prefix'], best_result[1]['url'], best_result[1]['mention']) for t in test_tweets]\n",
    "    X_test = make_feature_matrix(test_tweets, tokens_list, vocabulary)    \n",
    "    return test_tweets, test_labels, X_test\n",
    "    \n",
    "\n",
    "def print_top_misclassified(test_tweets, test_labels, X_test, clf, n):\n",
    "    \"\"\"\n",
    "    Print the n testing documents that are misclassified by the\n",
    "    largest margin. By using the .predict_proba function of\n",
    "    LogisticRegression <https://goo.gl/4WXbYA>, we can get the\n",
    "    predicted probabilities of each class for each instance.\n",
    "    We will first identify all incorrectly classified documents,\n",
    "    then sort them in descending order of the predicted probability\n",
    "    for the incorrect class.\n",
    "    E.g., if document i is misclassified as positive, we will\n",
    "    consider the probability of the positive class when sorting.\n",
    "\n",
    "    Params:\n",
    "      test_docs.....List of strings, one per test document\n",
    "      test_labels...Array of true testing labels\n",
    "      X_test........csr_matrix for test data\n",
    "      clf...........LogisticRegression classifier fit on all training\n",
    "                    data.\n",
    "      n.............The number of documents to print.\n",
    "\n",
    "    Returns:\n",
    "      Nothing; see Log.txt for example printed output.\n",
    "    \"\"\"\n",
    "    predictions = clf.predict(X_test)\n",
    "    errors_ind = np.where(test_labels!=predictions)[0]\n",
    "    print(type(errors_ind))\n",
    "    print(errors_ind)\n",
    "    proba_vals = clf.predict_proba(X_test)[errors_ind]\n",
    "    wrong_tweets = []\n",
    "    for idx in errors_ind:\n",
    "        wrong_tweets.append(test_tweets[idx])\n",
    "    predictions = predictions[errors_ind]\n",
    "    test_labels = test_labels[errors_ind]\n",
    "    \n",
    "    proba_vals_class = [elem[0][elem[1]] for elem in zip(proba_vals, predictions)]\n",
    "    \n",
    "    # Sort them in descending order.\n",
    "    sort_ind = np.argsort(proba_vals_class)[::-1][:n]\n",
    "   \n",
    "    for i in sort_ind:\n",
    "        wrong_tweet = wrong_tweets[i]\n",
    "        print(\"truth=%d predicted=%d proba=%6f \\n\" % (test_labels[i], predictions[i], proba_vals_class[i], wrong_tweet['user']['name'], wrong_tweet['user']['description']))"
   ]
  },
  {
   "cell_type": "code",
   "execution_count": 2,
   "metadata": {},
   "outputs": [
    {
     "name": "stdout",
     "output_type": "stream",
     "text": [
      "found 4014 female and 1146 male names\n"
     ]
    }
   ],
   "source": [
    "# 0 - Establish twitter connection and read all the names picked from the U.S. census.\n",
    "male_names, female_names = read_census_names()\n",
    "print('found %d female and %d male names' % (len(female_names), len(male_names)))"
   ]
  },
  {
   "cell_type": "code",
   "execution_count": 3,
   "metadata": {},
   "outputs": [
    {
     "name": "stdout",
     "output_type": "stream",
     "text": [
      "sampled 5000 tweets\n",
      "top names: [('john', 74), ('michael', 60), ('chris', 52), ('mike', 47), ('kevin', 47), ('james', 46), ('ryan', 42), ('jeff', 41), ('david', 38), ('brian', 36)]\n"
     ]
    }
   ],
   "source": [
    "# 1 - Retrieve the real time tweets\n",
    "filename = '../data/collect/real-time-tweets.pkl'\n",
    "tweets = read_real_time_tweets(filename)\n",
    "print('sampled %d tweets' % len(tweets))\n",
    "print('top names:', Counter(get_first_name(t) for t in tweets).most_common(10))"
   ]
  },
  {
   "cell_type": "code",
   "execution_count": 4,
   "metadata": {},
   "outputs": [
    {
     "name": "stdout",
     "output_type": "stream",
     "text": [
      "(5000, 30498)\n"
     ]
    },
    {
     "name": "stderr",
     "output_type": "stream",
     "text": [
      "/home/agericke/anaconda3/lib/python3.7/site-packages/sklearn/linear_model/logistic.py:433: FutureWarning: Default solver will be changed to 'lbfgs' in 0.22. Specify a solver to silence this warning.\n",
      "  FutureWarning)\n"
     ]
    },
    {
     "name": "stdout",
     "output_type": "stream",
     "text": [
      "(5000, 35285)\n",
      "(5000, 32522)\n",
      "(5000, 37309)\n",
      "(5000, 26767)\n",
      "(5000, 31493)\n",
      "(5000, 28792)\n",
      "(5000, 33518)\n",
      "(5000, 20426)\n",
      "(5000, 25029)\n",
      "(5000, 22499)\n",
      "(5000, 27098)\n",
      "(5000, 16644)\n",
      "(5000, 21134)\n",
      "(5000, 18707)\n",
      "(5000, 23187)\n",
      "(5000, 34827)\n",
      "(5000, 39632)\n",
      "(5000, 36851)\n",
      "(5000, 41656)\n",
      "(5000, 30925)\n",
      "(5000, 35680)\n",
      "(5000, 32950)\n",
      "(5000, 37705)\n",
      "(5000, 25012)\n",
      "(5000, 29680)\n",
      "(5000, 27120)\n",
      "(5000, 31787)\n",
      "(5000, 20913)\n",
      "(5000, 25487)\n",
      "(5000, 23003)\n",
      "(5000, 27573)\n",
      "(5000, 14067)\n",
      "(5000, 17661)\n",
      "(5000, 15883)\n",
      "(5000, 19477)\n",
      "(5000, 14067)\n",
      "(5000, 17661)\n",
      "(5000, 15883)\n",
      "(5000, 19477)\n",
      "(5000, 9506)\n",
      "(5000, 12977)\n",
      "(5000, 11322)\n",
      "(5000, 14793)\n",
      "(5000, 9506)\n",
      "(5000, 12977)\n",
      "(5000, 11322)\n",
      "(5000, 14793)\n",
      "(5000, 15976)\n",
      "(5000, 19579)\n",
      "(5000, 17792)\n",
      "(5000, 21395)\n",
      "(5000, 15976)\n",
      "(5000, 19579)\n",
      "(5000, 17792)\n",
      "(5000, 21395)\n",
      "(5000, 11563)\n",
      "(5000, 15063)\n",
      "(5000, 13380)\n",
      "(5000, 16880)\n",
      "(5000, 11563)\n",
      "(5000, 15063)\n",
      "(5000, 13380)\n",
      "(5000, 16880)\n"
     ]
    }
   ],
   "source": [
    "# 2 - Obtain accuracies for all possible options\n",
    "labels = np.array([get_gender(t, male_names, female_names) for t in tweets])\n",
    "argnames, option_iter = generate_all_opts()\n",
    "results_sorted  = eval_all_combinations(tweets, labels, option_iter, argnames)"
   ]
  },
  {
   "cell_type": "code",
   "execution_count": 6,
   "metadata": {},
   "outputs": [
    {
     "data": {
      "text/plain": [
       "(0.7482,\n",
       " {'use_descr': True,\n",
       "  'lower': True,\n",
       "  'punct': False,\n",
       "  'prefix': 'd=',\n",
       "  'url': True,\n",
       "  'mention': False})"
      ]
     },
     "execution_count": 6,
     "metadata": {},
     "output_type": "execute_result"
    }
   ],
   "source": [
    "results_sorted[0]"
   ]
  },
  {
   "cell_type": "code",
   "execution_count": 7,
   "metadata": {},
   "outputs": [
    {
     "name": "stdout",
     "output_type": "stream",
     "text": [
      "best cross-validation result:\n",
      "0.7482\n",
      "with options\n",
      "['use_descr=True', 'lower=True', 'punct=False', 'prefix=d=', 'url=True', 'mention=False']\n",
      "\n",
      "\n",
      "worst cross-validation result:\n",
      "0.6152\n",
      "with options\n",
      "['use_descr=False', 'lower=True', 'punct=False', 'prefix=', 'url=False', 'mention=True']\n"
     ]
    }
   ],
   "source": [
    "# Print information about these results.\n",
    "best_result = results_sorted[0]\n",
    "best_result_opt = []\n",
    "for name, opt in best_result[1].items():\n",
    "    best_result_opt.extend([str(name)+\"=\"+str(opt)])\n",
    "worst_result = results_sorted[-1]\n",
    "worst_result_opt = []\n",
    "for name, opt in worst_result[1].items():\n",
    "    worst_result_opt.extend([str(name)+\"=\"+str(opt)])\n",
    "print('best cross-validation result:\\n%s\\nwith options\\n%s' % (str(best_result[0]), best_result_opt))\n",
    "print(\"\\n\")\n",
    "print('worst cross-validation result:\\n%s\\nwith options\\n%s' % (str(worst_result[0]), worst_result_opt))"
   ]
  },
  {
   "cell_type": "code",
   "execution_count": 8,
   "metadata": {},
   "outputs": [
    {
     "data": {
      "image/png": "[encoded data removed]",
      "text/plain": [
       "<Figure size 432x288 with 1 Axes>"
      ]
     },
     "metadata": {
      "needs_background": "light"
     },
     "output_type": "display_data"
    }
   ],
   "source": [
    "filename = '../images/classify/accuracies.png'\n",
    "plot_sorted_accuracies(results_sorted, filename)"
   ]
  },
  {
   "cell_type": "code",
   "execution_count": 9,
   "metadata": {},
   "outputs": [
    {
     "name": "stdout",
     "output_type": "stream",
     "text": [
      "\n",
      "Mean Accuracies per Setting:\n",
      "use_descr=True: 0.73809\n",
      "mention=False: 0.68397\n",
      "prefix=d=: 0.68281\n",
      "lower=True: 0.68209\n",
      "punct=False: 0.68176\n",
      "url=True: 0.68170\n",
      "url=False: 0.68139\n",
      "punct=True: 0.68133\n",
      "lower=False: 0.68099\n",
      "prefix=: 0.68028\n",
      "mention=True: 0.67912\n",
      "use_descr=False: 0.62500\n"
     ]
    }
   ],
   "source": [
    "print('\\nMean Accuracies per Setting:')\n",
    "print('\\n'.join(['%s: %.5f' % (s,v) for v,s in mean_accuracy_per_setting(results_sorted)]))"
   ]
  },
  {
   "cell_type": "code",
   "execution_count": 10,
   "metadata": {},
   "outputs": [
    {
     "name": "stdout",
     "output_type": "stream",
     "text": [
      "(5000, 25029)\n"
     ]
    }
   ],
   "source": [
    "# Fit best classifier.\n",
    "clf, vocabulary = fit_best_classifier(tweets, labels, best_result)"
   ]
  },
  {
   "cell_type": "code",
   "execution_count": 11,
   "metadata": {},
   "outputs": [
    {
     "name": "stdout",
     "output_type": "stream",
     "text": [
      "\n",
      "TOP COEFFICIENTS PER CLASS:\n",
      "Male tokens:\n",
      "d=father: -1.99182\n",
      "d=husband: -1.57323\n",
      "d=guy: -1.51478\n",
      "d=man: -1.39916\n",
      "d=l: -1.36617\n",
      "\n",
      "Female tokens:\n",
      "d=mom: 2.25591\n",
      "d=mother: 2.08180\n",
      "d=alumna: 1.63699\n",
      "d=she: 1.42975\n",
      "d=girl: 1.38573\n"
     ]
    }
   ],
   "source": [
    "# Print top coefficients per class.\n",
    "print('\\nTOP COEFFICIENTS PER CLASS:')\n",
    "print('Male tokens:')\n",
    "print('\\n'.join(['%s: %.5f' % (t,v) for t,v in top_coefs(clf, 0, 5, vocabulary)]))\n",
    "print('\\nFemale tokens:')\n",
    "print('\\n'.join(['%s: %.5f' % (t,v) for t,v in top_coefs(clf, 1, 5, vocabulary)]))"
   ]
  },
  {
   "cell_type": "code",
   "execution_count": 11,
   "metadata": {},
   "outputs": [
    {
     "name": "stdout",
     "output_type": "stream",
     "text": [
      "(500, 25029)\n"
     ]
    }
   ],
   "source": [
    "# Parse test data\n",
    "test_tweets, test_labels, X_test = parse_test_data(best_result, vocabulary)"
   ]
  },
  {
   "cell_type": "code",
   "execution_count": 12,
   "metadata": {},
   "outputs": [
    {
     "data": {
      "text/plain": [
       "array([1, 1, 0, 0, 0, 0, 0, 1, 0, 0, 0, 1, 0, 0, 1, 0, 0, 0, 0, 0, 1, 0,\n",
       "       0, 0, 0, 0, 0, 0, 0, 0, 0, 0, 0, 0, 0, 0, 0, 0, 1, 0, 0, 0, 0, 1,\n",
       "       1, 1, 1, 0, 0, 0, 0, 1, 1, 0, 0, 0, 1, 0, 0, 0, 0, 0, 0, 0, 1, 0,\n",
       "       0, 0, 0, 1, 0, 0, 1, 0, 0, 0, 0, 0, 0, 1, 0, 0, 0, 1, 0, 0, 0, 0,\n",
       "       1, 0, 0, 1, 0, 1, 0, 0, 1, 1, 0, 0, 1, 1, 0, 0, 0, 0, 0, 0, 1, 0,\n",
       "       1, 0, 1, 0, 0, 1, 0, 0, 0, 0, 0, 0, 0, 0, 0, 0, 0, 0, 0, 0, 0, 0,\n",
       "       0, 0, 1, 1, 1, 0, 0, 1, 1, 1, 0, 0, 1, 0, 0, 1, 0, 0, 0, 1, 0, 1,\n",
       "       0, 1, 0, 1, 0, 0, 0, 1, 1, 0, 0, 0, 1, 0, 0, 0, 0, 0, 0, 0, 0, 1,\n",
       "       1, 1, 1, 1, 0, 1, 1, 0, 1, 1, 0, 0, 0, 0, 0, 1, 0, 1, 0, 0, 0, 1,\n",
       "       1, 0, 0, 0, 1, 0, 0, 1, 0, 0, 1, 0, 0, 1, 1, 0, 0, 0, 0, 1, 1, 0,\n",
       "       0, 1, 0, 0, 0, 1, 0, 1, 0, 1, 1, 0, 0, 0, 0, 0, 0, 0, 1, 1, 0, 0,\n",
       "       0, 0, 1, 0, 1, 0, 0, 0, 0, 1, 0, 0, 1, 0, 1, 0, 0, 1, 0, 0, 0, 1,\n",
       "       0, 1, 0, 0, 0, 0, 1, 1, 1, 1, 0, 0, 1, 0, 0, 1, 0, 0, 1, 0, 0, 0,\n",
       "       0, 1, 0, 1, 0, 1, 0, 0, 0, 0, 0, 0, 0, 1, 0, 0, 0, 0, 0, 0, 0, 1,\n",
       "       0, 0, 0, 0, 0, 0, 0, 0, 1, 0, 0, 0, 0, 0, 1, 0, 0, 1, 1, 1, 0, 0,\n",
       "       0, 0, 1, 0, 0, 0, 1, 0, 0, 1, 1, 1, 0, 1, 0, 0, 1, 1, 0, 0, 1, 0,\n",
       "       1, 0, 0, 0, 0, 0, 1, 0, 0, 0, 0, 0, 1, 1, 0, 0, 1, 0, 0, 0, 0, 1,\n",
       "       0, 0, 1, 0, 0, 0, 1, 0, 1, 0, 1, 0, 0, 1, 0, 0, 0, 1, 0, 1, 0, 0,\n",
       "       0, 0, 0, 1, 0, 0, 0, 0, 0, 1, 0, 0, 0, 0, 1, 0, 0, 1, 0, 0, 0, 0,\n",
       "       0, 0, 0, 0, 1, 0, 0, 0, 1, 0, 1, 0, 1, 1, 0, 0, 0, 0, 0, 0, 0, 0,\n",
       "       1, 1, 0, 0, 0, 0, 0, 1, 1, 1, 0, 0, 0, 0, 1, 0, 1, 0, 0, 0, 1, 1,\n",
       "       1, 0, 0, 1, 0, 0, 0, 0, 0, 0, 1, 1, 0, 0, 0, 1, 1, 0, 0, 0, 1, 0,\n",
       "       0, 0, 1, 0, 1, 0, 0, 1, 0, 1, 0, 0, 1, 0, 0, 1])"
      ]
     },
     "execution_count": 12,
     "metadata": {},
     "output_type": "execute_result"
    }
   ],
   "source": [
    "# Evaluate on test set.\n",
    "predictions = clf.predict(X_test)\n",
    "predictions"
   ]
  },
  {
   "cell_type": "code",
   "execution_count": 13,
   "metadata": {},
   "outputs": [
    {
     "name": "stdout",
     "output_type": "stream",
     "text": [
      "[0 1 1 0 0 0 0 1 0 0 0 1 1 0 1 0 0 0 1 1 1 0 0 0 1 0 0 0 1 0 1 0 1 0 0 0 1\n",
      " 1 1 0 0 1 0 1 1 1 1 0 0 0 0 0 0 1 1 0 1 0 0 0 0 1 1 0 1 0 0 0 0 1 0 0 1 0\n",
      " 1 1 1 0 0 1 0 1 0 1 0 0 1 0 0 0 0 1 0 1 0 0 1 1 1 0 1 1 0 1 0 1 0 1 1 1 1\n",
      " 0 1 1 0 1 0 0 1 0 0 1 0 0 0 0 1 0 0 0 0 0 0 0 1 1 1 1 0 0 1 1 1 1 1 1 0 0\n",
      " 0 0 1 1 0 0 1 1 1 0 1 1 0 1 1 1 1 0 1 0 1 0 0 0 1 1 1 0 1 1 0 1 1 1 0 1 1\n",
      " 0 0 1 0 1 1 0 0 1 1 1 0 1 1 0 1 0 1 0 0 0 1 0 1 0 1 1 1 0 1 0 0 1 1 0 0 0\n",
      " 0 0 0 1 0 1 0 1 1 0 0 1 1 0 1 0 1 1 1 0 0 0 1 0 1 0 0 0 0 1 1 0 1 0 1 1 0\n",
      " 0 0 1 1 1 0 0 0 1 0 1 0 1 0 0 1 1 1 0 1 1 0 0 1 0 0 1 1 1 1 1 0 1 0 0 0 1\n",
      " 0 0 0 1 1 0 0 1 0 0 0 1 0 0 1 0 1 0 1 1 1 1 1 1 0 0 0 0 0 0 0 0 1 0 0 0 1\n",
      " 0 0 0 1 1 0 1 0 1 0 0 1 0 1 0 1 0 0 0 1 0 1 0 1 0 1 0 0 1 0 1 1 1 0 1 0 1\n",
      " 0 0 1 0 0 1 1 0 1 0 0 0 0 0 1 1 0 0 1 0 1 1 0 0 0 1 1 0 1 1 1 0 0 0 0 1 1\n",
      " 1 0 0 0 1 0 1 0 1 1 0 0 1 0 1 0 0 0 0 0 0 0 0 0 0 0 0 1 0 1 0 0 0 1 1 0 0\n",
      " 0 1 0 1 0 0 0 0 0 0 0 1 1 0 0 0 0 1 1 1 0 0 0 0 0 1 0 0 1 0 0 0 1 0 1 0 0\n",
      " 0 1 0 0 0 1 1 1 0 0 0 0 0 1 0 1 0 0 0]\n"
     ]
    }
   ],
   "source": [
    "print(test_labels)"
   ]
  },
  {
   "cell_type": "code",
   "execution_count": 14,
   "metadata": {},
   "outputs": [
    {
     "name": "stdout",
     "output_type": "stream",
     "text": [
      "testing accuracy=0.666000\n"
     ]
    }
   ],
   "source": [
    "print('testing accuracy=%f' % accuracy_score(test_labels, predictions))"
   ]
  },
  {
   "cell_type": "code",
   "execution_count": 27,
   "metadata": {},
   "outputs": [
    {
     "name": "stdout",
     "output_type": "stream",
     "text": [
      "\n",
      "TOP MISCLASSIFIED TEST DOCUMENTS:\n",
      "<class 'numpy.ndarray'>\n",
      "[  0   2  12  18  19  24  28  30  32  36  37  41  51  52  53  54  61  62\n",
      "  74  75  76  81  86  88  98 103 105 107 109 113 118 121 126 137 139 142\n",
      " 143 145 147 150 153 154 156 157 158 159 163 164 168 172 173 174 175 178\n",
      " 180 182 183 185 187 189 190 191 194 195 200 205 206 210 214 221 233 234\n",
      " 236 240 252 257 259 261 262 265 267 269 270 272 273 274 275 278 285 286\n",
      " 288 295 300 303 310 312 314 315 317 318 319 322 325 326 327 328 337 340\n",
      " 343 344 347 348 350 354 356 361 363 367 368 369 372 373 375 378 380 382\n",
      " 385 387 388 390 393 395 396 398 400 406 407 410 411 415 416 419 421 422\n",
      " 426 428 430 431 434 436 445 448 449 454 455 460 463 465 469 473 476 477\n",
      " 487 491 493 494 499]\n",
      "truth=1 predicted=0 proba=0.987003 \n",
      "\n",
      "truth=1 predicted=0 proba=0.986091 \n",
      "\n",
      "truth=1 predicted=0 proba=0.978790 \n",
      "\n",
      "truth=1 predicted=0 proba=0.970207 \n",
      "\n",
      "truth=1 predicted=0 proba=0.960771 \n",
      "\n"
     ]
    }
   ],
   "source": [
    "print('\\nTOP MISCLASSIFIED TEST DOCUMENTS:')\n",
    "error_idx = print_top_misclassified(test_tweets, test_labels, X_test, clf, 5)"
   ]
  },
  {
   "cell_type": "code",
   "execution_count": 31,
   "metadata": {},
   "outputs": [
    {
     "ename": "TypeError",
     "evalue": "list indices must be integers or slices, not list",
     "output_type": "error",
     "traceback": [
      "\u001b[0;31m---------------------------------------------------------------------------\u001b[0m",
      "\u001b[0;31mTypeError\u001b[0m                                 Traceback (most recent call last)",
      "\u001b[0;32m<ipython-input-31-8ea61e99a1e7>\u001b[0m in \u001b[0;36m<module>\u001b[0;34m\u001b[0m\n\u001b[0;32m----> 1\u001b[0;31m \u001b[0mtest_tweets\u001b[0m\u001b[0;34m[\u001b[0m\u001b[0;34m[\u001b[0m\u001b[0;36m1\u001b[0m\u001b[0;34m,\u001b[0m\u001b[0;36m2\u001b[0m\u001b[0;34m,\u001b[0m\u001b[0;36m3\u001b[0m\u001b[0;34m]\u001b[0m\u001b[0;34m]\u001b[0m\u001b[0;34m\u001b[0m\u001b[0;34m\u001b[0m\u001b[0m\n\u001b[0m",
      "\u001b[0;31mTypeError\u001b[0m: list indices must be integers or slices, not list"
     ]
    }
   ],
   "source": []
  },
  {
   "cell_type": "code",
   "execution_count": null,
   "metadata": {},
   "outputs": [],
   "source": []
  }
 ],
 "metadata": {
  "kernelspec": {
   "display_name": "Python 3",
   "language": "python",
   "name": "python3"
  },
  "language_info": {
   "codemirror_mode": {
    "name": "ipython",
    "version": 3
   },
   "file_extension": ".py",
   "mimetype": "text/x-python",
   "name": "python",
   "nbconvert_exporter": "python",
   "pygments_lexer": "ipython3",
   "version": "3.7.2"
  }
 },
 "nbformat": 4,
 "nbformat_minor": 2
}
